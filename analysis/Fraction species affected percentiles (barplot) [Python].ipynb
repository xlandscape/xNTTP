{
 "cells": [
  {
   "cell_type": "markdown",
   "metadata": {},
   "source": [
    "# Fraction species affected percentiles (bar-plot)\n",
    "This notebook, generating a bar-plot of fractions species, follows the same procedure as the notebook for TER ",
    "percentile. Please see there for detailed explanations. Here, only deviating code will be explained.\n",
    "\n",
    "The basic setup of the analysis remains the same:"
   ]
  },
  {
   "cell_type": "code",
   "execution_count": null,
   "metadata": {},
   "outputs": [],
   "source": [
    "import observer\n",
    "import stores\n",
    "import base\n",
    "import attrib\n",
    "import numpy as np\n",
    "import matplotlib.pyplot as plt\n",
    "\n",
    "console_observer = observer.ConsoleObserver(print_output=True)\n",
    "x3df_store = stores.X3dfStore(\"sample/store\", console_observer, \"r\")\n",
    "distance_groups_input = base.Input(\n",
    "    \"DistanceGroups\", \n",
    "    (attrib.Class(np.ndarray), attrib.Scales(\"space_y/1sqm, space_x/1sqm\")), \n",
    "    console_observer, \n",
    "    base.Output('LandscapeScenario/analysis_distance_groups_values', x3df_store)\n",
    ")"
   ]
  },
  {
   "cell_type": "markdown",
   "metadata": {},
   "source": [
    "Unlike in the TER notebook, the endpoint considered here is the fraction species affected whose values are ",
    "stored under  `\"/Fraction_species_affected_SE_dry_weight/Effect\"`."
   ]
  },
  {
   "cell_type": "code",
   "execution_count": null,
   "metadata": {},
   "outputs": [],
   "source": [
    "fraction_species_affected_input = base.Input(\n",
    "    \"FractionSpeciesAffected\", \n",
    "    (attrib.Class(np.ndarray), attrib.Unit(\"1\"), attrib.Scales(\"space_y/1sqm, space_x/1sqm, time/day\")), \n",
    "    console_observer, \n",
    "    base.Output('Fraction_species_affected_SE_dry_weight/Effect', x3df_store)\n",
    ")"
   ]
  },
  {
   "cell_type": "markdown",
   "metadata": {},
   "source": [
    "Again, only the distance groups of the habitat are loaded:"
   ]
  },
  {
   "cell_type": "code",
   "execution_count": null,
   "metadata": {},
   "outputs": [],
   "source": [
    "distance_groups = distance_groups_input.read(slices=(slice(0, 100), slice(100, 200))).values"
   ]
  },
  {
   "cell_type": "markdown",
   "metadata": {},
   "source": [
    "The fractions of species affected are loaded for the day of application and the same spatial extent:"
   ]
  },
  {
   "cell_type": "code",
   "execution_count": null,
   "metadata": {},
   "outputs": [],
   "source": [
    "fraction_species_affected = fraction_species_affected_input.read(slices=(slice(0, 100), ",
    "slice(100, 200), 0)).values"
   ]
  },
  {
   "cell_type": "markdown",
   "metadata": {},
   "source": [
    "The same distances as in the TER analysis are used:"
   ]
  },
  {
   "cell_type": "code",
   "execution_count": null,
   "metadata": {},
   "outputs": [],
   "source": [
    "distances = [10, 20, 50, 100, float(\"inf\")]"
   ]
  },
  {
   "cell_type": "markdown",
   "metadata": {},
   "source": [
    "For the analysis of fraction species affected, we are interested in the 90th percentile instead of the 10th ",
    "percentile."
   ]
  },
  {
   "cell_type": "code",
   "execution_count": null,
   "metadata": {},
   "outputs": [],
   "source": [
    "quantiles = [np.quantile(fraction_species_affected[distance_groups <= d], 0.9) for d in distances]"
   ]
  },
  {
   "cell_type": "markdown",
   "metadata": {},
   "source": [
    "The calculated percentiles look as the following:"
   ]
  },
  {
   "cell_type": "code",
   "execution_count": null,
   "metadata": {},
   "outputs": [],
   "source": [
    "quantiles"
   ]
  },
  {
   "cell_type": "markdown",
   "metadata": {},
   "source": [
    "For preparation of plotting, we define a list of RGB colors in which the individual distance groups should be ",
    "represented."
   ]
  },
  {
   "cell_type": "code",
   "execution_count": null,
   "metadata": {},
   "outputs": [],
   "source": [
    "colors = [\n",
    "    ( 27/255,  57/255,  50/255), \n",
    "    ( 45/255, 106/255,  79/255), \n",
    "    ( 64/255, 145/255, 108/255), \n",
    "    ( 82/255, 183/255, 136/255), \n",
    "    (116/255, 198/255, 157/255)\n",
    "]"
   ]
  },
  {
   "cell_type": "markdown",
   "metadata": {},
   "source": [
    "Finally, a simple bar-plot visualization using _matplotlib_."
   ]
  },
  {
   "cell_type": "code",
   "execution_count": null,
   "metadata": {},
   "outputs": [],
   "source": [
    "fig = plt.figure()\n",
    "ax = fig.add_subplot()\n",
    "ax.bar(range((len(distances))), quantiles, color=colors)\n",
    "ax.set(\n",
    "    title=\"90$^{th}$ percentile of fraction species affected - no mitigation\",\n",
    "    ylabel=\"fraction species affected [-]\",\n",
    "    xlabel=\"distance group\"\n",
    ")\n",
    "ax.xaxis.set(ticks=range(len(distances)), ticklabels=distances)\n",
    "plt.show()"
   ]
  }
 ],
 "metadata": {
  "kernelspec": {
   "display_name": "Python 3 (ipykernel)",
   "language": "python",
   "name": "python3"
  },
  "language_info": {
   "codemirror_mode": {
    "name": "ipython",
    "version": 3
   },
   "file_extension": ".py",
   "mimetype": "text/x-python",
   "name": "python",
   "nbconvert_exporter": "python",
   "pygments_lexer": "ipython3",
   "version": "3.9.7"
  }
 },
 "nbformat": 4,
 "nbformat_minor": 4
}
