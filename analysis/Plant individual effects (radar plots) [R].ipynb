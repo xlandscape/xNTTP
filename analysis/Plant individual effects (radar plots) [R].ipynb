{
 "cells": [
  {
   "cell_type": "markdown",
   "metadata": {},
   "source": [
    "# Plant individual effects (radar plots)\n",
    "This notebook shows how to load individual effects on plants from an xNonTargetTerrestrialPlant simulation and ",
    "how to ",
    "prepare \"radar plots\" from accordingly aggregated Assessment Endpoints using R and xRisk.\n",
    "\n",
    "The code here makes use of the _XRisk_ R package that contains functions to access simulation data stored in ",
    "X3df files that is the default data storage for xNonTargetTerrestrialPlant simulations."
   ]
  },
  {
   "cell_type": "code",
   "execution_count": null,
   "metadata": {},
   "outputs": [],
   "source": [
    "library(XRisk)"
   ]
  },
  {
   "cell_type": "markdown",
   "metadata": {},
   "source": [
    "Many _XRisk_ functions return data tables, and it is a good idea to load the _data.table_ package to process ",
    "these data tables further with high performance."
   ]
  },
  {
   "cell_type": "code",
   "execution_count": null,
   "metadata": {},
   "outputs": [],
   "source": [
    "library(data.table)"
   ]
  },
  {
   "cell_type": "markdown",
   "metadata": {},
   "source": [
    "For plotting, _ggplot2_ is used here."
   ]
  },
  {
   "cell_type": "code",
   "execution_count": null,
   "metadata": {},
   "outputs": [],
   "source": [
    "library(ggplot2)"
   ]
  },
  {
   "cell_type": "markdown",
   "metadata": {},
   "source": [
    "The following statement increases the size of plots within the notebook."
   ]
  },
  {
   "cell_type": "code",
   "execution_count": null,
   "metadata": {},
   "outputs": [],
   "source": [
    "options(repr.plot.width = 15, repr.plot.height = 10)"
   ]
  },
  {
   "cell_type": "markdown",
   "metadata": {},
   "source": [
    "The _X3DF_ class provides a simple wrapper to operate against X3df files. The sample notebook here uses an ",
    "exemplary dataset in the _sample_ folder (all relative paths in the notebook are resolved from the _analysis_). ",
    "To analyze custom simulation runs, e.g. from the _processing_ folder, you can pass in an absolute path instead."
   ]
  },
  {
   "cell_type": "code",
   "execution_count": null,
   "metadata": {},
   "outputs": [],
   "source": [
    "x3df <- X3DF$new(\"sample/store/arr.dat\")"
   ]
  },
  {
   "cell_type": "markdown",
   "metadata": {},
   "source": [
    "The `x3df` variable now contains an instance of an S4 class that wraps access to the X3df file."
   ]
  },
  {
   "cell_type": "code",
   "execution_count": null,
   "metadata": {
    "scrolled": true
   },
   "outputs": [],
   "source": [
    "x3df"
   ]
  },
  {
   "cell_type": "markdown",
   "metadata": {},
   "source": [
    "Of most interest here is the `x3df$datasets` binding that returns a list of datasets that are stored in the ",
    "X3df file. AT this level, datasets are described by their access path, name and a selection of additional ",
    "metadata like sizes and scales. To understand the individual datasets entirely, please refer to the ",
    "individual component documentations."
   ]
  },
  {
   "cell_type": "code",
   "execution_count": null,
   "metadata": {},
   "outputs": [],
   "source": [
    "x3df$datasets"
   ]
  },
  {
   "cell_type": "markdown",
   "metadata": {},
   "source": [
    "For the current assessment, we are interested in the individual plant effects as expressed by logistic ",
    "dose-response curves for several plant species, entities and attributes. These effects are given as ",
    "numerical values between 0 and 1 at a temporal scale of one day ",
    "(though only one day, the day of application, was simulated) and for a spatial extent of 200 m x 100 m at the ",
    "square-meter scale. The according datasets ",
    "start with `\"/DoseResponse\"` as an indicator of the component that calculated them and end with ",
    "`\"/Effect\"` indicating the specific dataset of the component. This allows to quickly filter the available ",
    "datasets for the ones of interest."
   ]
  },
  {
   "cell_type": "code",
   "execution_count": null,
   "metadata": {},
   "outputs": [],
   "source": [
    "dose_response.datasets <- \n",
    "  x3df$datasets[startsWith(names(x3df$datasets), \"DoseResponse\") & endsWith(names(x3df$datasets), \"/Effect\")]"
   ]
  },
  {
   "cell_type": "markdown",
   "metadata": {},
   "source": [
    "After applying the filter criteria, a number of datasets containing effect endpoints remain."
   ]
  },
  {
   "cell_type": "code",
   "execution_count": null,
   "metadata": {},
   "outputs": [],
   "source": [
    "length(dose_response.datasets)"
   ]
  },
  {
   "cell_type": "markdown",
   "metadata": {},
   "source": [
    "With all this preparation, we can start to read the actual data from the X3df file. There are several ways to ",
    "do so, but in the current example we can make use of the fact that the schematic scenario consists of a 100 m ",
    "x 100 m field and an adjacent 100 m x 100 m habitat to the East. If we are interested in all one square-meter ",
    "cells that are located 3 m away from the field edge, we have to look for all cells with an x-coordinate of ",
    "103 m. We make use here of the dataset's `extract` method to retrieve all value of the first (and only) ",
    "simulated day that are located in cells with an x-coordinate of 103 m and having any y-coordinate. This is ",
    "done, as an example, for the first effect dataset.\n",
    "\n",
    "In other simulations, additional data would be necessary to indicate which cells are located 3 m away from the ",
    "field edge."
   ]
  },
  {
   "cell_type": "code",
   "execution_count": null,
   "metadata": {},
   "outputs": [],
   "source": [
    "ds <- dose_response.datasets[[1]]\n",
    "names(dose_response.datasets)[1]\n",
    "ds$extract(c(1, 103, NA))"
   ]
  },
  {
   "cell_type": "markdown",
   "metadata": {},
   "source": [
    "The extraction procedure can be easily applied to all effect datasets to yield a list of data tables ",
    "containing all effects that were simulated in the sample simulation 3 m away of the field edge."
   ]
  },
  {
   "cell_type": "code",
   "execution_count": null,
   "metadata": {},
   "outputs": [],
   "source": [
    "data <- lapply(dose_response.datasets, function(ds) ds$extract(c(1, 103, NA)))"
   ]
  },
  {
   "cell_type": "markdown",
   "metadata": {},
   "source": [
    "The list is rather long but nonetheless already filtered enough to be handled entirely. For large simulations, ",
    "however, values should be preferably further aggregated during reading the data ",
    "(using `chunk-apply` instead of `extract`) to reduce the amount of data points stored in memory."
   ]
  },
  {
   "cell_type": "code",
   "execution_count": null,
   "metadata": {},
   "outputs": [],
   "source": [
    "data"
   ]
  },
  {
   "cell_type": "markdown",
   "metadata": {},
   "source": [
    "This dataset can already be used for many assessments. In this notebook, we are, for instance, further ",
    "interested in the maximum, median and 90th percentile of effects observed 3 m away from field edge. For this ",
    "reason, we now calculate the according effects for each individual plant endpoint."
   ]
  },
  {
   "cell_type": "code",
   "execution_count": null,
   "metadata": {},
   "outputs": [],
   "source": [
    "effects <- r",
    "bind",
    "list(lapply(data, function(d) d[, as.list(quantile(value, c(0.5, 0.9, 1)))]), id",
    "col = ",
    ",\"endpoint\")"
   ]
  },
  {
   "cell_type": "markdown",
   "metadata": {},
   "source": [
    "The `r",
    "bind",
    "list` in the previous command combined the results for the individual endpoints into a single data ",
    "table. Without `r",
    "bind",
    "list`, the result would have been a list of values. The `id",
    "col` argument makes sure that ",
    "the name of the individual endpoint is also stored in the resulting data table."
   ]
  },
  {
   "cell_type": "code",
   "execution_count": null,
   "metadata": {},
   "outputs": [],
   "source": [
    "effects"
   ]
  },
  {
   "cell_type": "markdown",
   "metadata": {},
   "source": [
    "Before proceeding, we clean up the endpoint names by removing the common prefixes and suffixes and by replacing ",
    "underscores with spaces."
   ]
  },
  {
   "cell_type": "code",
   "execution_count": null,
   "metadata": {},
   "outputs": [],
   "source": [
    "effects[, endpoint := gsub(\"_\", \" \", sub",
    "str(endpoint, 14, nchar(endpoint) - 7), TRUE)]"
   ]
  },
  {
   "cell_type": "markdown",
   "metadata": {},
   "source": [
    "The table is now much more readable:"
   ]
  },
  {
   "cell_type": "code",
   "execution_count": null,
   "metadata": {},
   "outputs": [],
   "source": [
    "effects"
   ]
  },
  {
   "cell_type": "markdown",
   "metadata": {},
   "source": [
    "For plotting (and potential further aggregation), it is useful to separate species and attribute from the name ",
    "of the endpoint. This is done with the next few lines of code."
   ]
  },
  {
   "cell_type": "code",
   "execution_count": null,
   "metadata": {},
   "outputs": [],
   "source": [
    "effects <- effects[\n",
    "    , \n",
    "    .(species = paste(str",
    "split(endpoint, \" \", TRUE)[[1]][1], str",
    "split(endpoint, \" \", TRUE)[[1]][2])), \n",
    "    .(endpoint, `50%`, `90%`, `100%`)\n",
    "]\n",
    "effects[, attribute := substring(endpoint, nchar(species) + 1, nchar(endpoint))]\n",
    "effects"
   ]
  },
  {
   "cell_type": "markdown",
   "metadata": {},
   "source": [
    "Finally, a radar plot showing the individual maximum effects can be created. A red dot marks the maximum effect ",
    "observed over all endpoints."
   ]
  },
  {
   "cell_type": "code",
   "execution_count": null,
   "metadata": {},
   "outputs": [],
   "source": [
    "ggplot(effects, aes(endpoint)) +\n",
    "  geom_bar(aes(fill = species), size = 0, alpha = .5) +  \n",
    "  geom_h",
    "line(y",
    "intercept = c(0.25, 0.5, 0.75), color = \"white\", size = 1) +\n",
    "  geom_h",
    "line(y",
    "intercept = 1) +\n",
    "  geom_text(data = data.table(value = c(0.25, 0.5)), aes(label = value, y = value), x = 1, size = 5, ",
    "alpha = .75) +\n",
    "  geom_text(\n",
    "      aes(label = attribute, angle = seq(-90, -450,  length.out = effects[, .N])), \n",
    "      size = 5, \n",
    "      y = 0.8,\n",
    "      alpha = 0.5\n",
    "  ) +\n",
    "  geom_line",
    "range(aes(y",
    "max = `100%`), y",
    "min = 0, size = 1.5) +\n",
    "  geom_point(data = effects[`100%` == max(`100%`)], aes(y = `100%`), color = \"darkred\", size = 5) + \n",
    "  coord_polar() +\n",
    "  scale_y_continuous(breaks = c(limits = c(0, 1), 0.25, 0.5, 0.75)) +  \n",
    "  scale_fill_brewer(palette = \"Set3\") +\n",
    "  gg",
    "title(\n",
    "      \"Maximum effects for individual plant endpoints in 3 m distance from the field edge for a single ",
    "application \"\n",
    "  ) +\n",
    "  theme_bw() +\n",
    "  theme(\n",
    "      axis.text = element_blank(),\n",
    "      axis.title = element_blank(),      \n",
    "      panel.grid = element_blank(),      \n",
    "      legend.title = element_text(size = 24),\n",
    "      legend.text = element_text(size = 18),\n",
    "      plot.title = element_text(size = 20, face = \"bold\")\n",
    "  )"
   ]
  },
  {
   "cell_type": "markdown",
   "metadata": {},
   "source": [
    "The same code can be used to plot the 90% percentile of individual effects"
   ]
  },
  {
   "cell_type": "code",
   "execution_count": null,
   "metadata": {},
   "outputs": [],
   "source": [
    "ggplot(effects, aes(endpoint)) +\n",
    "  geom_bar(aes(fill = species), size = 0, alpha = .5) +  \n",
    "  geom_h",
    "line(y",
    "intercept = c(0.25, 0.5, 0.75), color = \"white\", size = 1) +\n",
    "  geom_h",
    "line(y",
    "intercept = 1) +\n",
    "  geom_text(data = data.table(value = c(0.25, 0.5)), aes(label = value, y = value), x = 1, size = 5, ",
    "alpha = .75) +\n",
    "  geom_text(\n",
    "      aes(label = attribute, angle = seq(-90, -450,  length.out = effects[, .N])), \n",
    "      size = 5, \n",
    "      y = 0.8,\n",
    "      alpha = 0.5\n",
    "  ) +\n",
    "  geom_line",
    "range(aes(y",
    "max = `90%`), y",
    "min = 0, size = 1.5) +\n",
    "  geom_point(data = effects[`100%` == max(`100%`)], aes(y = `100%`), color = \"darkred\", size = 5) + \n",
    "  coord_polar() +\n",
    "  scale_y_continuous(breaks = c(limits = c(0, 1), 0.25, 0.5, 0.75)) +  \n",
    "  scale_fill_brewer(palette = \"Set3\") +\n",
    "  gg",
    "title(\n",
    "      \"90% of effects for individual plant endpoints in 3 m distance from the field edge for a single ",
    "application \"\n",
    "  ) +\n",
    "  theme_bw() +\n",
    "  theme(\n",
    "      axis.text = element_blank(),\n",
    "      axis.title = element_blank(),      \n",
    "      panel.grid = element_blank(),      \n",
    "      legend.title = element_text(size = 24),\n",
    "      legend.text = element_text(size = 18),\n",
    "      plot.title = element_text(size = 20, face = \"bold\")\n",
    "  )"
   ]
  },
  {
   "cell_type": "markdown",
   "metadata": {},
   "source": [
    "And finally, the median effect."
   ]
  },
  {
   "cell_type": "code",
   "execution_count": null,
   "metadata": {},
   "outputs": [],
   "source": [
    "ggplot(effects, aes(endpoint)) +\n",
    "  geom_bar(aes(fill = species), size = 0, alpha = .5) +  \n",
    "  geom_h",
    "line(y",
    "intercept = c(0.25, 0.5, 0.75), color = \"white\", size = 1) +\n",
    "  geom_h",
    "line(y",
    "intercept = 1) +\n",
    "  geom_text(data = data.table(value = c(0.25, 0.5)), aes(label = value, y = value), x = 1, size = 5, ",
    "alpha = .75) +\n",
    "  geom_text(\n",
    "      aes(label = attribute, angle = seq(-90, -450,  length.out = effects[, .N])), \n",
    "      size = 5, \n",
    "      y = 0.8,\n",
    "      alpha = 0.5\n",
    "  ) +\n",
    "  geom_line",
    "range(aes(y",
    "max = `50%`), y",
    "min = 0, size = 1.5) +\n",
    "  geom_point(data = effects[`100%` == max(`100%`)], aes(y = `100%`), color = \"darkred\", size = 5) + \n",
    "  coord_polar() +\n",
    "  scale_y_continuous(breaks = c(limits = c(0, 1), 0.25, 0.5, 0.75)) +  \n",
    "  scale_fill_brewer(palette = \"Set3\") +\n",
    "  gg",
    "title(\n",
    "      \"Median effects for individual plant endpoints in 3 m distance from the field edge for a single ",
    "application \"\n",
    "  ) +\n",
    "  theme_bw() +\n",
    "  theme(\n",
    "      axis.text = element_blank(),\n",
    "      axis.title = element_blank(),      \n",
    "      panel.grid = element_blank(),      \n",
    "      legend.title = element_text(size = 24),\n",
    "      legend.text = element_text(size = 18),\n",
    "      plot.title = element_text(size = 20, face = \"bold\")\n",
    "  )"
   ]
  }
 ],
 "metadata": {
  "kernelspec": {
   "display_name": "R",
   "language": "R",
   "name": "ir"
  },
  "language_info": {
   "codemirror_mode": "r",
   "file_extension": ".r",
   "mimetype": "text/x-r-source",
   "name": "R",
   "pygments_lexer": "r",
   "version": "4.1.1"
  }
 },
 "nbformat": 4,
 "nbformat_minor": 4
}
